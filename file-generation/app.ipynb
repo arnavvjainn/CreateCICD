{
 "cells": [
  {
   "cell_type": "code",
   "execution_count": null,
   "metadata": {},
   "outputs": [],
   "source": [
    "%%capture\n",
    "%pip install openai\n",
    "%pip install pandas"
   ]
  },
  {
   "cell_type": "code",
   "execution_count": null,
   "metadata": {},
   "outputs": [],
   "source": [
    "import openai\n",
    "import os\n",
    "import json\n",
    "# from dotenv import load_dotenv\n",
    "# load_dotenv()\n",
    " \n",
    "#TOGETHER_API_KEY = os.environ.get(\"Tba3f2fc62c839af7958d07df123da5b8a080fe9deb806eca291e1a5dcd407dee\")\n",
    "\n",
    "TOGETHER_API_KEY = \"api_key\"\n",
    " \n",
    "client = openai.OpenAI(\n",
    "    api_key=TOGETHER_API_KEY,\n",
    "    base_url=\"https://api.together.xyz/v1\",\n",
    ")\n",
    "\n",
    "def get_code_completion(messages, max_tokens=512, model=\"codellama/CodeLlama-70b-Instruct-hf\"):\n",
    "    chat_completion = client.chat.completions.create(\n",
    "        messages=messages,\n",
    "        model=model,\n",
    "        max_tokens=max_tokens,\n",
    "        stop=[\n",
    "            \"<step>\"\n",
    "        ],\n",
    "        frequency_penalty=1,\n",
    "        response_format = { \"type\": \"json_object\" },\n",
    "        presence_penalty=1,\n",
    "        top_p=0.7,\n",
    "        n=10,\n",
    "        temperature=0.7,\n",
    "    )\n",
    " \n",
    "    return chat_completion"
   ]
  },
  {
   "cell_type": "code",
   "execution_count": null,
   "metadata": {},
   "outputs": [],
   "source": [
    "messages = [\n",
    "  {\n",
    "    \"role\": \"system\",\n",
    "    \"content\": \"You are an expert programmer that helps to write YAML configurations for Github actions when given a package.json file. Don't be too verbose.\"\n",
    "  },\n",
    "  {\n",
    "    \"role\": \"user\",\n",
    "    \"content\": \"I am going to provide you with a package.json file, create a YAML configuration for a Github Action workflow adhering to the necesary format with proper line breaks in the output:\"\n",
    "  },\n",
    "  {\n",
    "    \"role\": \"user\",\n",
    "    \"content\": \"{\\\"name\\\": \\\"jest-unit-testing-examples\\\", \\\"version\\\": \\\"0.0.1\\\", \\\"description\\\": \\\"Jest unit testing examples\\\", \\\"main\\\": \\\"index.js\\\", \\\"devDependencies\\\": {\\\"babel-core\\\": \\\"^6.26.0\\\", \\\"babel-jest\\\": \\\"^23.0.0-alpha.0\\\", \\\"babel-preset-airbnb\\\": \\\"^2.4.0\\\", \\\"jest\\\": \\\"^23.0.0-alpha.0\\\"}, \\\"scripts\\\": {\\\"test\\\": \\\"jest --ci\\\", \\\"test:watch\\\": \\\"jest --watch\\\", \\\"snyk-protect\\\": \\\"snyk protect\\\", \\\"prepare\\\": \\\"npm run snyk-protect\\\"}, \\\"author\\\": \\\"Jasdeep Khalsa\\\", \\\"license\\\": \\\"MIT\\\", \\\"dependencies\\\": {\\\"npm\\\": \\\"^6.6.0\\\", \\\"snyk\\\": \\\"^1.143.1\\\"}, \\\"snyk\\\": true}\"\n",
    "  }\n",
    "]\n",
    "\n",
    "\n",
    "chat_completion = get_code_completion(messages)\n",
    "            \n",
    "print(chat_completion.choices[0].message.content)"
   ]
  }
 ],
 "metadata": {
  "kernelspec": {
   "display_name": ".venv",
   "language": "python",
   "name": "python3"
  },
  "language_info": {
   "codemirror_mode": {
    "name": "ipython",
    "version": 3
   },
   "file_extension": ".py",
   "mimetype": "text/x-python",
   "name": "python",
   "nbconvert_exporter": "python",
   "pygments_lexer": "ipython3",
   "version": "3.10.5"
  }
 },
 "nbformat": 4,
 "nbformat_minor": 2
}
